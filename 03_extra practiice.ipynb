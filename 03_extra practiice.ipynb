{
 "cells": [
  {
   "cell_type": "code",
   "execution_count": 6,
   "id": "191dfae0-c15e-4917-9f68-c29bb4a75a41",
   "metadata": {},
   "outputs": [],
   "source": [
    "lis=[10,True,554.23,\"string\",255,5+6j]"
   ]
  },
  {
   "cell_type": "code",
   "execution_count": 4,
   "id": "a445f624-b867-4e4b-b773-a28fd4982f37",
   "metadata": {},
   "outputs": [],
   "source": [
    "s= \"Shahbaz ashraf\""
   ]
  },
  {
   "cell_type": "code",
   "execution_count": 8,
   "id": "396ebd66-f116-4e13-9731-e49aed674e06",
   "metadata": {},
   "outputs": [
    {
     "data": {
      "text/plain": [
       "['Shahbaz', 'ashraf']"
      ]
     },
     "execution_count": 8,
     "metadata": {},
     "output_type": "execute_result"
    }
   ],
   "source": [
    "s.split()"
   ]
  },
  {
   "cell_type": "code",
   "execution_count": 9,
   "id": "1e47634a-a487-4f30-87b2-ebc57f65ccff",
   "metadata": {},
   "outputs": [
    {
     "data": {
      "text/plain": [
       "['S', 'h', 'a', 'h', 'b', 'a', 'z', ' ', 'a', 's', 'h', 'r', 'a', 'f']"
      ]
     },
     "execution_count": 9,
     "metadata": {},
     "output_type": "execute_result"
    }
   ],
   "source": [
    "list(s)"
   ]
  },
  {
   "cell_type": "code",
   "execution_count": 10,
   "id": "7aefee88",
   "metadata": {},
   "outputs": [
    {
     "data": {
      "text/plain": [
       "14"
      ]
     },
     "execution_count": 10,
     "metadata": {},
     "output_type": "execute_result"
    }
   ],
   "source": [
    "len(s)"
   ]
  },
  {
   "cell_type": "code",
   "execution_count": 13,
   "id": "a24f94b0",
   "metadata": {},
   "outputs": [],
   "source": [
    "number=str(456546654654)      ### int has no lenth  bcz of int is not iteraable"
   ]
  },
  {
   "cell_type": "code",
   "execution_count": 15,
   "id": "5f59a638",
   "metadata": {},
   "outputs": [
    {
     "data": {
      "text/plain": [
       "12"
      ]
     },
     "execution_count": 15,
     "metadata": {},
     "output_type": "execute_result"
    }
   ],
   "source": [
    "len(number)"
   ]
  },
  {
   "cell_type": "code",
   "execution_count": 10,
   "id": "e5e934ea-69dc-4c0f-8e0c-849229f62f9a",
   "metadata": {},
   "outputs": [
    {
     "data": {
      "text/plain": [
       "14"
      ]
     },
     "execution_count": 10,
     "metadata": {},
     "output_type": "execute_result"
    }
   ],
   "source": [
    "len(list(s))"
   ]
  },
  {
   "cell_type": "code",
   "execution_count": 11,
   "id": "510cef86-0970-4334-ab93-4f69ff477e53",
   "metadata": {},
   "outputs": [
    {
     "data": {
      "text/plain": [
       "14"
      ]
     },
     "execution_count": 11,
     "metadata": {},
     "output_type": "execute_result"
    }
   ],
   "source": [
    "len(s)"
   ]
  },
  {
   "cell_type": "code",
   "execution_count": 12,
   "id": "97d0d6d4-b640-40f1-ace6-f52d27482850",
   "metadata": {},
   "outputs": [
    {
     "data": {
      "text/plain": [
       "(5+6j)"
      ]
     },
     "execution_count": 12,
     "metadata": {},
     "output_type": "execute_result"
    }
   ],
   "source": [
    "lis.pop()"
   ]
  },
  {
   "cell_type": "code",
   "execution_count": 13,
   "id": "2a831975-94a5-4fcd-8049-317f63be83b8",
   "metadata": {},
   "outputs": [
    {
     "data": {
      "text/plain": [
       "[10, True, 554.23, 'string', 255]"
      ]
     },
     "execution_count": 13,
     "metadata": {},
     "output_type": "execute_result"
    }
   ],
   "source": [
    "lis"
   ]
  },
  {
   "cell_type": "code",
   "execution_count": 14,
   "id": "2ef1314c-efb5-4f1c-829a-9c6da0bb4787",
   "metadata": {},
   "outputs": [
    {
     "data": {
      "text/plain": [
       "10"
      ]
     },
     "execution_count": 14,
     "metadata": {},
     "output_type": "execute_result"
    }
   ],
   "source": [
    "lis.pop(0)"
   ]
  },
  {
   "cell_type": "code",
   "execution_count": 15,
   "id": "a99a99cc-697b-40ce-9b1d-ceae0d79c1c3",
   "metadata": {},
   "outputs": [],
   "source": [
    "lis.insert(0,10)"
   ]
  },
  {
   "cell_type": "code",
   "execution_count": 16,
   "id": "b6831dc6-e827-46a1-bb75-1231c9c43710",
   "metadata": {},
   "outputs": [
    {
     "data": {
      "text/plain": [
       "[10, True, 554.23, 'string', 255]"
      ]
     },
     "execution_count": 16,
     "metadata": {},
     "output_type": "execute_result"
    }
   ],
   "source": [
    "lis"
   ]
  },
  {
   "cell_type": "code",
   "execution_count": 17,
   "id": "bf824cf1-a042-4f31-8d09-d7e149c898af",
   "metadata": {},
   "outputs": [],
   "source": [
    "lis.insert(-1,(5+6j))"
   ]
  },
  {
   "cell_type": "code",
   "execution_count": 18,
   "id": "a92b1a79-e99c-489b-8b0c-df94c37ee0de",
   "metadata": {},
   "outputs": [
    {
     "data": {
      "text/plain": [
       "[10, True, 554.23, 'string', (5+6j), 255]"
      ]
     },
     "execution_count": 18,
     "metadata": {},
     "output_type": "execute_result"
    }
   ],
   "source": [
    "lis"
   ]
  },
  {
   "cell_type": "code",
   "execution_count": 19,
   "id": "f66fefad-317a-4390-a1af-e3954efa828d",
   "metadata": {},
   "outputs": [],
   "source": [
    "lis.remove(10)"
   ]
  },
  {
   "cell_type": "code",
   "execution_count": 20,
   "id": "d1d48471-ef1f-4e56-a029-41a2e2f95ed6",
   "metadata": {},
   "outputs": [
    {
     "data": {
      "text/plain": [
       "'Shahbaz ashraf'"
      ]
     },
     "execution_count": 20,
     "metadata": {},
     "output_type": "execute_result"
    }
   ],
   "source": [
    "s"
   ]
  },
  {
   "cell_type": "code",
   "execution_count": 21,
   "id": "cd4aa7d0-748e-44cd-b821-4462fc71b0e7",
   "metadata": {},
   "outputs": [
    {
     "data": {
      "text/plain": [
       "'Shddhbddz ddshrddf'"
      ]
     },
     "execution_count": 21,
     "metadata": {},
     "output_type": "execute_result"
    }
   ],
   "source": [
    "s.replace(\"a\",\"dd\")   ## string is non mutable##\n"
   ]
  },
  {
   "cell_type": "code",
   "execution_count": 22,
   "id": "19ef1d87-37d8-47ba-891e-1e205a28511c",
   "metadata": {},
   "outputs": [
    {
     "data": {
      "text/plain": [
       "'Shahbaz ashraf'"
      ]
     },
     "execution_count": 22,
     "metadata": {},
     "output_type": "execute_result"
    }
   ],
   "source": [
    "s"
   ]
  },
  {
   "cell_type": "code",
   "execution_count": 23,
   "id": "8f6176aa-c684-4267-a7e6-0cb6bc653701",
   "metadata": {},
   "outputs": [
    {
     "data": {
      "text/plain": [
       "[True, 554.23, 'string', (5+6j), 255]"
      ]
     },
     "execution_count": 23,
     "metadata": {},
     "output_type": "execute_result"
    }
   ],
   "source": [
    "lis"
   ]
  },
  {
   "cell_type": "code",
   "execution_count": 24,
   "id": "ef6022eb-81f5-4566-aa91-192427ceac41",
   "metadata": {},
   "outputs": [
    {
     "data": {
      "text/plain": [
       "[True, 554.23, 'string', (5+6j), 255]"
      ]
     },
     "execution_count": 24,
     "metadata": {},
     "output_type": "execute_result"
    }
   ],
   "source": [
    "lis"
   ]
  },
  {
   "cell_type": "code",
   "execution_count": 25,
   "id": "2df73cb3-5709-4655-a786-9f4c9c27ed54",
   "metadata": {},
   "outputs": [
    {
     "data": {
      "text/plain": [
       "[True, 554.23, 'string', (5+6j), 255]"
      ]
     },
     "execution_count": 25,
     "metadata": {},
     "output_type": "execute_result"
    }
   ],
   "source": [
    "lis"
   ]
  },
  {
   "cell_type": "code",
   "execution_count": 26,
   "id": "041089cf-e2ae-452d-9700-0a493fb0843e",
   "metadata": {},
   "outputs": [
    {
     "data": {
      "text/plain": [
       "'S//a//baz as//raf'"
      ]
     },
     "execution_count": 26,
     "metadata": {},
     "output_type": "execute_result"
    }
   ],
   "source": [
    "s.replace(\"h\",\"//\",-1)"
   ]
  },
  {
   "cell_type": "code",
   "execution_count": 27,
   "id": "b9f86cb3-5f01-4992-a721-5145e98224fe",
   "metadata": {},
   "outputs": [
    {
     "data": {
      "text/plain": [
       "'SHAHBAZ ASHRAF'"
      ]
     },
     "execution_count": 27,
     "metadata": {},
     "output_type": "execute_result"
    }
   ],
   "source": [
    "s.upper()"
   ]
  },
  {
   "cell_type": "code",
   "execution_count": 28,
   "id": "0b94611d-4d6b-493b-b19e-b36e5c49c1ef",
   "metadata": {},
   "outputs": [
    {
     "data": {
      "text/plain": [
       "'Shahbaz ashraf'"
      ]
     },
     "execution_count": 28,
     "metadata": {},
     "output_type": "execute_result"
    }
   ],
   "source": [
    "s.capitalize()"
   ]
  },
  {
   "cell_type": "code",
   "execution_count": 29,
   "id": "f4377d7b-0518-41d7-913b-122eed26bf5c",
   "metadata": {},
   "outputs": [
    {
     "data": {
      "text/plain": [
       "[True, 554.23, 'string', (5+6j), 255]"
      ]
     },
     "execution_count": 29,
     "metadata": {},
     "output_type": "execute_result"
    }
   ],
   "source": [
    "lis"
   ]
  },
  {
   "cell_type": "code",
   "execution_count": 30,
   "id": "9f3210ed-613f-4222-91b1-c92340f338d1",
   "metadata": {},
   "outputs": [],
   "source": [
    "liss=lis[::-1]"
   ]
  },
  {
   "cell_type": "code",
   "execution_count": 31,
   "id": "55c3e1b0-4ffb-4695-8ede-64202532d076",
   "metadata": {},
   "outputs": [
    {
     "data": {
      "text/plain": [
       "[255, (5+6j), 'string', 554.23, True]"
      ]
     },
     "execution_count": 31,
     "metadata": {},
     "output_type": "execute_result"
    }
   ],
   "source": [
    "liss"
   ]
  },
  {
   "cell_type": "code",
   "execution_count": 32,
   "id": "8e9c0acf-a165-4f67-a739-31843f062b65",
   "metadata": {},
   "outputs": [
    {
     "data": {
      "text/plain": [
       "[True, 554.23, 'string', (5+6j), 255]"
      ]
     },
     "execution_count": 32,
     "metadata": {},
     "output_type": "execute_result"
    }
   ],
   "source": [
    "lis"
   ]
  },
  {
   "cell_type": "code",
   "execution_count": 33,
   "id": "5379f6a6-50ad-4b7f-946d-db22950236e8",
   "metadata": {},
   "outputs": [],
   "source": [
    "lis.reverse()"
   ]
  },
  {
   "cell_type": "code",
   "execution_count": 34,
   "id": "90372814-4adf-498f-8643-c9d5aa2a4f69",
   "metadata": {},
   "outputs": [
    {
     "data": {
      "text/plain": [
       "[255, (5+6j), 'string', 554.23, True]"
      ]
     },
     "execution_count": 34,
     "metadata": {},
     "output_type": "execute_result"
    }
   ],
   "source": [
    "lis"
   ]
  },
  {
   "cell_type": "code",
   "execution_count": 35,
   "id": "6ead80bc-dbbf-44ed-9bd1-60aca1a6b890",
   "metadata": {},
   "outputs": [],
   "source": [
    "lis.reverse()"
   ]
  },
  {
   "cell_type": "code",
   "execution_count": 36,
   "id": "a389650b-8cc9-4e9c-a644-63481f268d38",
   "metadata": {},
   "outputs": [
    {
     "data": {
      "text/plain": [
       "[True, 554.23, 'string', (5+6j), 255]"
      ]
     },
     "execution_count": 36,
     "metadata": {},
     "output_type": "execute_result"
    }
   ],
   "source": [
    "lis"
   ]
  },
  {
   "cell_type": "code",
   "execution_count": 37,
   "id": "3d35f449-df56-4730-8b9e-6c065a783659",
   "metadata": {},
   "outputs": [],
   "source": [
    "liss=lis[::-1]"
   ]
  },
  {
   "cell_type": "code",
   "execution_count": 38,
   "id": "0a840784-b7e9-4b01-a2c6-8d578a22eaf5",
   "metadata": {},
   "outputs": [
    {
     "data": {
      "text/plain": [
       "[True, 554.23, 'string', (5+6j), 255]"
      ]
     },
     "execution_count": 38,
     "metadata": {},
     "output_type": "execute_result"
    }
   ],
   "source": [
    "lis"
   ]
  },
  {
   "cell_type": "code",
   "execution_count": 39,
   "id": "30aa7f6a-498b-4c36-a8e7-07e8d045b17b",
   "metadata": {},
   "outputs": [
    {
     "data": {
      "text/plain": [
       "[255, (5+6j), 'string', 554.23, True]"
      ]
     },
     "execution_count": 39,
     "metadata": {},
     "output_type": "execute_result"
    }
   ],
   "source": [
    "liss"
   ]
  },
  {
   "cell_type": "code",
   "execution_count": 40,
   "id": "20b86d1a-acde-4bbd-a0c7-ff0cafc3499c",
   "metadata": {},
   "outputs": [],
   "source": [
    "lis.reverse()"
   ]
  },
  {
   "cell_type": "code",
   "execution_count": 41,
   "id": "ce470971-9ee5-4ea3-822a-029b80bc96e8",
   "metadata": {},
   "outputs": [
    {
     "data": {
      "text/plain": [
       "[255, (5+6j), 'string', 554.23, True]"
      ]
     },
     "execution_count": 41,
     "metadata": {},
     "output_type": "execute_result"
    }
   ],
   "source": [
    "lis"
   ]
  },
  {
   "cell_type": "code",
   "execution_count": 42,
   "id": "738d7a09-692a-4951-b5e7-0248bddeebdb",
   "metadata": {},
   "outputs": [],
   "source": [
    "list2 = [12,56,2,5,85,0,45,35,25]\n",
    "list3 = [\"CAR\",\"ABIKE\",\"MOTOR\",\"PLAN\",\"RAIL\"]"
   ]
  },
  {
   "cell_type": "code",
   "execution_count": 43,
   "id": "a5f79a78-4c87-4078-819d-60fc827cc9f3",
   "metadata": {},
   "outputs": [],
   "source": [
    "list2.sort()"
   ]
  },
  {
   "cell_type": "code",
   "execution_count": 44,
   "id": "aa003b58-d556-47ac-92c4-dbd74fa13c63",
   "metadata": {},
   "outputs": [
    {
     "data": {
      "text/plain": [
       "[0, 2, 5, 12, 25, 35, 45, 56, 85]"
      ]
     },
     "execution_count": 44,
     "metadata": {},
     "output_type": "execute_result"
    }
   ],
   "source": [
    "list2"
   ]
  },
  {
   "cell_type": "code",
   "execution_count": 45,
   "id": "80d90587-2c72-4185-8b08-e7e1b9a309f6",
   "metadata": {},
   "outputs": [],
   "source": [
    "list3.sort()"
   ]
  },
  {
   "cell_type": "code",
   "execution_count": 46,
   "id": "0f74b285-5e78-4f1c-976c-769ec92f5a46",
   "metadata": {},
   "outputs": [
    {
     "data": {
      "text/plain": [
       "['ABIKE', 'CAR', 'MOTOR', 'PLAN', 'RAIL']"
      ]
     },
     "execution_count": 46,
     "metadata": {},
     "output_type": "execute_result"
    }
   ],
   "source": [
    "list3"
   ]
  },
  {
   "cell_type": "code",
   "execution_count": 47,
   "id": "336e14b2-4376-4fb1-8030-02fee5269599",
   "metadata": {},
   "outputs": [],
   "source": [
    "list3[1]=\"bar\""
   ]
  },
  {
   "cell_type": "code",
   "execution_count": 48,
   "id": "96e33a7a-e37f-40d0-87a4-254f3c6b5707",
   "metadata": {},
   "outputs": [
    {
     "data": {
      "text/plain": [
       "['ABIKE', 'bar', 'MOTOR', 'PLAN', 'RAIL']"
      ]
     },
     "execution_count": 48,
     "metadata": {},
     "output_type": "execute_result"
    }
   ],
   "source": [
    "list3"
   ]
  },
  {
   "cell_type": "code",
   "execution_count": 49,
   "id": "6a460e69-7818-4a92-95d5-033dffd24e83",
   "metadata": {},
   "outputs": [],
   "source": [
    "s=\"shahbaz ashraf\""
   ]
  },
  {
   "cell_type": "code",
   "execution_count": 50,
   "id": "8ce614de-d0cf-493c-95ed-61cf2f602c15",
   "metadata": {},
   "outputs": [
    {
     "data": {
      "text/plain": [
       "'shahbaz ashraf'"
      ]
     },
     "execution_count": 50,
     "metadata": {},
     "output_type": "execute_result"
    }
   ],
   "source": [
    "s"
   ]
  },
  {
   "cell_type": "code",
   "execution_count": 51,
   "id": "a07c7f5c-d2e6-4121-8441-39acf9290150",
   "metadata": {},
   "outputs": [
    {
     "data": {
      "text/plain": [
       "'shahbaz khan'"
      ]
     },
     "execution_count": 51,
     "metadata": {},
     "output_type": "execute_result"
    }
   ],
   "source": [
    "s.replace(\"ashraf\",\"khan\")"
   ]
  },
  {
   "cell_type": "code",
   "execution_count": 16,
   "id": "c0556d35-4ee2-4baf-a3f2-144caf6e2fa9",
   "metadata": {},
   "outputs": [
    {
     "data": {
      "text/plain": [
       "'Shahbaz ashraf'"
      ]
     },
     "execution_count": 16,
     "metadata": {},
     "output_type": "execute_result"
    }
   ],
   "source": [
    "s"
   ]
  },
  {
   "cell_type": "code",
   "execution_count": 25,
   "id": "d1674176",
   "metadata": {},
   "outputs": [],
   "source": [
    "s_new=iter(s)"
   ]
  },
  {
   "cell_type": "code",
   "execution_count": 26,
   "id": "f0983558",
   "metadata": {},
   "outputs": [
    {
     "ename": "AttributeError",
     "evalue": "'str_ascii_iterator' object has no attribute 'replace'",
     "output_type": "error",
     "traceback": [
      "\u001b[1;31m---------------------------------------------------------------------------\u001b[0m",
      "\u001b[1;31mAttributeError\u001b[0m                            Traceback (most recent call last)",
      "Cell \u001b[1;32mIn[26], line 1\u001b[0m\n\u001b[1;32m----> 1\u001b[0m s_new\u001b[39m.\u001b[39;49mreplace(\u001b[39m\"\u001b[39m\u001b[39mashraf\u001b[39m\u001b[39m\"\u001b[39m,\u001b[39m\"\u001b[39m\u001b[39mkhan\u001b[39m\u001b[39m\"\u001b[39m)\n",
      "\u001b[1;31mAttributeError\u001b[0m: 'str_ascii_iterator' object has no attribute 'replace'"
     ]
    }
   ],
   "source": []
  },
  {
   "cell_type": "code",
   "execution_count": 21,
   "id": "5da41859",
   "metadata": {},
   "outputs": [
    {
     "data": {
      "text/plain": [
       "'Shahbaz ashraf'"
      ]
     },
     "execution_count": 21,
     "metadata": {},
     "output_type": "execute_result"
    }
   ],
   "source": [
    "s"
   ]
  },
  {
   "cell_type": "code",
   "execution_count": 29,
   "id": "63305f8f-bd29-4500-b3d6-c8ff251249b8",
   "metadata": {},
   "outputs": [],
   "source": [
    "t=(True, 554.23, 'string', (5+6j), (5+6j), 255)"
   ]
  },
  {
   "cell_type": "code",
   "execution_count": 30,
   "id": "c013dd8f",
   "metadata": {},
   "outputs": [],
   "source": [
    "list_test=[True, 554.23, 'string', (5+6j), (5+6j), 255]"
   ]
  },
  {
   "cell_type": "code",
   "execution_count": 33,
   "id": "b9088f58",
   "metadata": {},
   "outputs": [],
   "source": [
    "list_test.reverse()     # reverse change original value. list can be chaange but tupple can't be change that's why reverse function is not available for tuple"
   ]
  },
  {
   "cell_type": "code",
   "execution_count": 34,
   "id": "573f69f5",
   "metadata": {},
   "outputs": [
    {
     "data": {
      "text/plain": [
       "[True, 554.23, 'string', (5+6j), (5+6j), 255]"
      ]
     },
     "execution_count": 34,
     "metadata": {},
     "output_type": "execute_result"
    }
   ],
   "source": [
    "list_test"
   ]
  },
  {
   "cell_type": "code",
   "execution_count": null,
   "id": "abe0443e",
   "metadata": {},
   "outputs": [],
   "source": [
    "## list is mutable means original value can be change after creation ,\n",
    "# but on case of tuple we can't change the original value after creation \n",
    "# so tuple is unmutabl object whereas list is mutable \n",
    "\n",
    "# string is iterable but (nonmutable)\n",
    "#iterable means  - object which returns their memeber one by one (like string,list but not int)\n",
    "\n",
    " #tuple is also non_mutable because we can't change original value but\n",
    "  # tuple is iterable we can iterate member of tuple "
   ]
  },
  {
   "cell_type": "code",
   "execution_count": null,
   "id": "31a86cbc",
   "metadata": {},
   "outputs": [],
   "source": []
  },
  {
   "cell_type": "code",
   "execution_count": 27,
   "id": "32735826",
   "metadata": {},
   "outputs": [
    {
     "ename": "NameError",
     "evalue": "name 't' is not defined",
     "output_type": "error",
     "traceback": [
      "\u001b[1;31m---------------------------------------------------------------------------\u001b[0m",
      "\u001b[1;31mNameError\u001b[0m                                 Traceback (most recent call last)",
      "Cell \u001b[1;32mIn[27], line 1\u001b[0m\n\u001b[1;32m----> 1\u001b[0m t\u001b[39m.\u001b[39m\u001b[39m__reversed__\u001b[39m\n",
      "\u001b[1;31mNameError\u001b[0m: name 't' is not defined"
     ]
    }
   ],
   "source": [
    "t"
   ]
  },
  {
   "cell_type": "code",
   "execution_count": 28,
   "id": "3499ab3e-c694-48e6-9073-1c18f588a33b",
   "metadata": {},
   "outputs": [
    {
     "ename": "NameError",
     "evalue": "name 'lis' is not defined",
     "output_type": "error",
     "traceback": [
      "\u001b[1;31m---------------------------------------------------------------------------\u001b[0m",
      "\u001b[1;31mNameError\u001b[0m                                 Traceback (most recent call last)",
      "Cell \u001b[1;32mIn[28], line 1\u001b[0m\n\u001b[1;32m----> 1\u001b[0m lis\u001b[39m.\u001b[39mreverse()\n",
      "\u001b[1;31mNameError\u001b[0m: name 'lis' is not defined"
     ]
    }
   ],
   "source": []
  },
  {
   "cell_type": "code",
   "execution_count": 55,
   "id": "0931e635-60b7-4187-8847-f76d6141d068",
   "metadata": {},
   "outputs": [
    {
     "data": {
      "text/plain": [
       "tuple"
      ]
     },
     "execution_count": 55,
     "metadata": {},
     "output_type": "execute_result"
    }
   ],
   "source": [
    "type(t)"
   ]
  },
  {
   "cell_type": "code",
   "execution_count": 56,
   "id": "ddcde1a3-ad44-4b8d-877f-5e3ffbbb7973",
   "metadata": {},
   "outputs": [
    {
     "data": {
      "text/plain": [
       "(255, (5+6j), (5+6j), 'string', 554.23, True)"
      ]
     },
     "execution_count": 56,
     "metadata": {},
     "output_type": "execute_result"
    }
   ],
   "source": [
    "t[::-1]"
   ]
  },
  {
   "cell_type": "code",
   "execution_count": 57,
   "id": "d9ef8c34-84c9-4ef7-94bc-3b32634d4794",
   "metadata": {},
   "outputs": [
    {
     "ename": "TypeError",
     "evalue": "'tuple' object does not support item assignment",
     "output_type": "error",
     "traceback": [
      "\u001b[0;31m---------------------------------------------------------------------------\u001b[0m",
      "\u001b[0;31mTypeError\u001b[0m                                 Traceback (most recent call last)",
      "Cell \u001b[0;32mIn[57], line 1\u001b[0m\n\u001b[0;32m----> 1\u001b[0m \u001b[43mt\u001b[49m\u001b[43m[\u001b[49m\u001b[38;5;241;43m1\u001b[39;49m\u001b[43m]\u001b[49m\u001b[38;5;241m=\u001b[39m\u001b[38;5;241m550\u001b[39m\n",
      "\u001b[0;31mTypeError\u001b[0m: 'tuple' object does not support item assignment"
     ]
    }
   ],
   "source": [
    "t[1]=550"
   ]
  },
  {
   "cell_type": "code",
   "execution_count": 58,
   "id": "4fd02523-66a6-4e1b-a9d9-8d108bc41242",
   "metadata": {},
   "outputs": [],
   "source": [
    "s1={}"
   ]
  },
  {
   "cell_type": "code",
   "execution_count": 59,
   "id": "82fa4220-000e-4e2a-b0f4-e444b17cc3db",
   "metadata": {},
   "outputs": [
    {
     "data": {
      "text/plain": [
       "dict"
      ]
     },
     "execution_count": 59,
     "metadata": {},
     "output_type": "execute_result"
    }
   ],
   "source": [
    "type(s1)"
   ]
  },
  {
   "cell_type": "code",
   "execution_count": 60,
   "id": "fdf2bae8-c09b-4118-be46-8307097cc5f0",
   "metadata": {},
   "outputs": [],
   "source": [
    "s2={2,4,6,8,12,9,10}"
   ]
  },
  {
   "cell_type": "code",
   "execution_count": 61,
   "id": "169cd993-ecd0-47c1-bfa8-9468265773b9",
   "metadata": {},
   "outputs": [
    {
     "data": {
      "text/plain": [
       "set"
      ]
     },
     "execution_count": 61,
     "metadata": {},
     "output_type": "execute_result"
    }
   ],
   "source": [
    "type(s2)"
   ]
  },
  {
   "cell_type": "code",
   "execution_count": 35,
   "id": "662bd185-3bfc-4df2-abea-187d76894821",
   "metadata": {},
   "outputs": [],
   "source": [
    "## there is no ondexing in dictionary inside {} it only returns unique value\n",
    "s4={2,4,2,4,5,6,4,2,2,3,3,5,9,9,9,9,5,7,8,4} ## inside set we can'nt store list  only non mutable list can be store\n"
   ]
  },
  {
   "cell_type": "code",
   "execution_count": 36,
   "id": "83b7e7a2-ccda-4bb0-bdde-0ed96a749484",
   "metadata": {},
   "outputs": [
    {
     "data": {
      "text/plain": [
       "{2, 3, 4, 5, 6, 7, 8, 9}"
      ]
     },
     "execution_count": 36,
     "metadata": {},
     "output_type": "execute_result"
    }
   ],
   "source": [
    "s4  ## set returns only ubique value "
   ]
  },
  {
   "cell_type": "code",
   "execution_count": 64,
   "id": "71dc9b33-8f99-4922-9a7b-4a08843e2891",
   "metadata": {},
   "outputs": [
    {
     "ename": "SyntaxError",
     "evalue": "invalid syntax (3078009288.py, line 1)",
     "output_type": "error",
     "traceback": [
      "\u001b[0;36m  Cell \u001b[0;32mIn[64], line 1\u001b[0;36m\u001b[0m\n\u001b[0;31m    s4{1}\u001b[0m\n\u001b[0m      ^\u001b[0m\n\u001b[0;31mSyntaxError\u001b[0m\u001b[0;31m:\u001b[0m invalid syntax\n"
     ]
    }
   ],
   "source": [
    "s4{1}"
   ]
  },
  {
   "cell_type": "code",
   "execution_count": 65,
   "id": "a09c28ed-63cf-40a7-ae3c-5c832ec0f61b",
   "metadata": {},
   "outputs": [
    {
     "ename": "NameError",
     "evalue": "name 'lis1' is not defined",
     "output_type": "error",
     "traceback": [
      "\u001b[0;31m---------------------------------------------------------------------------\u001b[0m",
      "\u001b[0;31mNameError\u001b[0m                                 Traceback (most recent call last)",
      "Cell \u001b[0;32mIn[65], line 1\u001b[0m\n\u001b[0;32m----> 1\u001b[0m \u001b[43mlis1\u001b[49m\n",
      "\u001b[0;31mNameError\u001b[0m: name 'lis1' is not defined"
     ]
    }
   ],
   "source": [
    "lis1"
   ]
  },
  {
   "cell_type": "code",
   "execution_count": 38,
   "id": "fb7fa46f-396f-457b-9ec2-9ad212bc6f72",
   "metadata": {},
   "outputs": [],
   "source": [
    "l=[2,4,2,4,5,6,4,2,2,3,3,5,9,9,9,9,5,7,8,4]"
   ]
  },
  {
   "cell_type": "code",
   "execution_count": 39,
   "id": "5a88a901-ff57-41f6-993f-24ed6a67d464",
   "metadata": {},
   "outputs": [
    {
     "data": {
      "text/plain": [
       "[2, 4, 2, 4, 5, 6, 4, 2, 2, 3, 3, 5, 9, 9, 9, 9, 5, 7, 8, 4]"
      ]
     },
     "execution_count": 39,
     "metadata": {},
     "output_type": "execute_result"
    }
   ],
   "source": [
    "l"
   ]
  },
  {
   "cell_type": "code",
   "execution_count": 42,
   "id": "3dbbd725-032d-45d4-aaf9-e4788493e3b9",
   "metadata": {},
   "outputs": [],
   "source": [
    "unique_list=list(set(l))"
   ]
  },
  {
   "cell_type": "code",
   "execution_count": 44,
   "id": "383dd8bf",
   "metadata": {},
   "outputs": [
    {
     "data": {
      "text/plain": [
       "[2, 3, 4, 5, 6, 7, 8, 9]"
      ]
     },
     "execution_count": 44,
     "metadata": {},
     "output_type": "execute_result"
    }
   ],
   "source": [
    "unique_list"
   ]
  },
  {
   "cell_type": "code",
   "execution_count": 45,
   "id": "60ef9ba5",
   "metadata": {},
   "outputs": [
    {
     "data": {
      "text/plain": [
       "2"
      ]
     },
     "execution_count": 45,
     "metadata": {},
     "output_type": "execute_result"
    }
   ],
   "source": [
    "unique_list[0]"
   ]
  },
  {
   "cell_type": "code",
   "execution_count": 46,
   "id": "4748210d-3109-415f-ac57-edfbec5934a7",
   "metadata": {},
   "outputs": [],
   "source": [
    "s5={245,245,365,89,6,787,239,\"Abi\",\"khan\"}"
   ]
  },
  {
   "cell_type": "code",
   "execution_count": 47,
   "id": "fb2adebd-bc27-4895-a28e-3cc4c1130431",
   "metadata": {},
   "outputs": [
    {
     "data": {
      "text/plain": [
       "{239, 245, 365, 6, 787, 89, 'Abi', 'khan'}"
      ]
     },
     "execution_count": 47,
     "metadata": {},
     "output_type": "execute_result"
    }
   ],
   "source": [
    "s5"
   ]
  },
  {
   "cell_type": "code",
   "execution_count": 71,
   "id": "9ecc127d-31ee-4dea-9a78-00e06c9f192d",
   "metadata": {},
   "outputs": [],
   "source": [
    "######******* DICTIONARY *********######"
   ]
  },
  {
   "cell_type": "code",
   "execution_count": 72,
   "id": "b296e0fa-44d1-414a-b073-9ede2284d5cc",
   "metadata": {},
   "outputs": [],
   "source": [
    "d={}"
   ]
  },
  {
   "cell_type": "code",
   "execution_count": 73,
   "id": "1225b7fd-a598-4e7f-84e0-114a1d81fddc",
   "metadata": {},
   "outputs": [
    {
     "data": {
      "text/plain": [
       "dict"
      ]
     },
     "execution_count": 73,
     "metadata": {},
     "output_type": "execute_result"
    }
   ],
   "source": [
    "type(d)"
   ]
  },
  {
   "cell_type": "code",
   "execution_count": 74,
   "id": "97b1e0a2-1ebd-4396-955c-4632c2181430",
   "metadata": {},
   "outputs": [],
   "source": [
    "sett = {2,2,2,2,2,4,4,4,4,4,2,3,3,4,2,3}    ## inside curly bractice if there is linera data then it is consider to be set and set returns unique value from list\n"
   ]
  },
  {
   "cell_type": "code",
   "execution_count": 75,
   "id": "79e82400-cedc-480b-b9a8-c41ef9fee80e",
   "metadata": {},
   "outputs": [
    {
     "data": {
      "text/plain": [
       "set"
      ]
     },
     "execution_count": 75,
     "metadata": {},
     "output_type": "execute_result"
    }
   ],
   "source": [
    "type(sett)"
   ]
  },
  {
   "cell_type": "code",
   "execution_count": 76,
   "id": "4c6a3980-f818-4482-84a2-889757c7f622",
   "metadata": {},
   "outputs": [
    {
     "data": {
      "text/plain": [
       "{2, 3, 4}"
      ]
     },
     "execution_count": 76,
     "metadata": {},
     "output_type": "execute_result"
    }
   ],
   "source": [
    "sett   "
   ]
  },
  {
   "cell_type": "code",
   "execution_count": 77,
   "id": "92b736f3-130c-4948-bd7c-4b8880e65d77",
   "metadata": {},
   "outputs": [],
   "source": [
    "d1={\"key\":\"shabaz\",\"email\":\"abikhan@gmail.com\"}"
   ]
  },
  {
   "cell_type": "code",
   "execution_count": 78,
   "id": "ef9d4ec1-dd29-40b3-923a-c5a846f40968",
   "metadata": {},
   "outputs": [
    {
     "data": {
      "text/plain": [
       "{'key': 'shabaz', 'email': 'abikhan@gmail.com'}"
      ]
     },
     "execution_count": 78,
     "metadata": {},
     "output_type": "execute_result"
    }
   ],
   "source": [
    "d1"
   ]
  },
  {
   "cell_type": "code",
   "execution_count": 79,
   "id": "d93ff3bb-41c9-4f13-a13c-d1546abb5cee",
   "metadata": {},
   "outputs": [],
   "source": [
    "d2={\"name\":\"abi\",\"email\":\"abikhan\",\"address\":\"chikanuta\",\"pin\":843114,12:\"pin\"}"
   ]
  },
  {
   "cell_type": "code",
   "execution_count": 80,
   "id": "6410d801-1384-4931-943b-3d393a685fa6",
   "metadata": {},
   "outputs": [
    {
     "data": {
      "text/plain": [
       "{'name': 'abi',\n",
       " 'email': 'abikhan',\n",
       " 'address': 'chikanuta',\n",
       " 'pin': 843114,\n",
       " 12: 'pin'}"
      ]
     },
     "execution_count": 80,
     "metadata": {},
     "output_type": "execute_result"
    }
   ],
   "source": [
    "d2"
   ]
  },
  {
   "cell_type": "code",
   "execution_count": 81,
   "id": "cb026291-4051-4d77-b498-9a6c037eba6e",
   "metadata": {},
   "outputs": [
    {
     "data": {
      "text/plain": [
       "'pin'"
      ]
     },
     "execution_count": 81,
     "metadata": {},
     "output_type": "execute_result"
    }
   ],
   "source": [
    "d2[12]"
   ]
  },
  {
   "cell_type": "code",
   "execution_count": 82,
   "id": "ad222d56-8540-4120-b17c-c50665a04146",
   "metadata": {},
   "outputs": [],
   "source": [
    "d3={\"name\":\"abi\",\"email\":\"abikhan\",\"name\":\"abi khan\"}"
   ]
  },
  {
   "cell_type": "code",
   "execution_count": 83,
   "id": "a174311e-f480-47b9-a129-975890fab42b",
   "metadata": {},
   "outputs": [
    {
     "data": {
      "text/plain": [
       "'abi khan'"
      ]
     },
     "execution_count": 83,
     "metadata": {},
     "output_type": "execute_result"
    }
   ],
   "source": [
    "d3[\"name\"]"
   ]
  },
  {
   "cell_type": "code",
   "execution_count": 84,
   "id": "9ffea34b-89b3-41fd-919d-352029d9a83f",
   "metadata": {},
   "outputs": [],
   "source": [
    "d4 = {\"number\":[2,4,5,8,7],\"assignments\":(1,2,8,7),\"launch_date\":{12,15,18},\"class_time\":{\"web dev\":8,\"dsa\":8,\"java\":7}}"
   ]
  },
  {
   "cell_type": "code",
   "execution_count": 85,
   "id": "c82de7c2-9e49-466c-b041-94b31ee1d5c4",
   "metadata": {},
   "outputs": [
    {
     "data": {
      "text/plain": [
       "{'number': [2, 4, 5, 8, 7],\n",
       " 'assignments': (1, 2, 8, 7),\n",
       " 'launch_date': {12, 15, 18},\n",
       " 'class_time': {'web dev': 8, 'dsa': 8, 'java': 7}}"
      ]
     },
     "execution_count": 85,
     "metadata": {},
     "output_type": "execute_result"
    }
   ],
   "source": [
    "d4"
   ]
  },
  {
   "cell_type": "code",
   "execution_count": 86,
   "id": "507b58fd-3226-4afd-b7f6-ef8cac882bc6",
   "metadata": {},
   "outputs": [
    {
     "data": {
      "text/plain": [
       "dict_keys(['number', 'assignments', 'launch_date', 'class_time'])"
      ]
     },
     "execution_count": 86,
     "metadata": {},
     "output_type": "execute_result"
    }
   ],
   "source": [
    "d4.keys()"
   ]
  },
  {
   "cell_type": "code",
   "execution_count": 87,
   "id": "ffacdd75-aabb-422b-bc94-eae1454e9074",
   "metadata": {},
   "outputs": [],
   "source": [
    "del d4[\"number\"]"
   ]
  },
  {
   "cell_type": "code",
   "execution_count": 88,
   "id": "65f988d0-5b17-489e-972b-c5ada6cfe6cf",
   "metadata": {},
   "outputs": [
    {
     "data": {
      "text/plain": [
       "{'assignments': (1, 2, 8, 7),\n",
       " 'launch_date': {12, 15, 18},\n",
       " 'class_time': {'web dev': 8, 'dsa': 8, 'java': 7}}"
      ]
     },
     "execution_count": 88,
     "metadata": {},
     "output_type": "execute_result"
    }
   ],
   "source": [
    "d4"
   ]
  },
  {
   "cell_type": "code",
   "execution_count": 89,
   "id": "9adb6d8e-892f-4668-9506-a64696babc46",
   "metadata": {},
   "outputs": [],
   "source": [
    "d4[\"number\"]=[2,4,5,8,9]"
   ]
  },
  {
   "cell_type": "code",
   "execution_count": 90,
   "id": "620ea8d4-8eb5-402b-b81c-ba6f71032c7b",
   "metadata": {},
   "outputs": [
    {
     "data": {
      "text/plain": [
       "{'assignments': (1, 2, 8, 7),\n",
       " 'launch_date': {12, 15, 18},\n",
       " 'class_time': {'web dev': 8, 'dsa': 8, 'java': 7},\n",
       " 'number': [2, 4, 5, 8, 9]}"
      ]
     },
     "execution_count": 90,
     "metadata": {},
     "output_type": "execute_result"
    }
   ],
   "source": [
    "d4"
   ]
  },
  {
   "cell_type": "code",
   "execution_count": 91,
   "id": "8c14bfd0-3b4a-4b88-9425-c74fa19dc096",
   "metadata": {},
   "outputs": [
    {
     "data": {
      "text/plain": [
       "{'assignments': (1, 2, 8, 7),\n",
       " 'launch_date': {12, 15, 18},\n",
       " 'class_time': {'web dev': 8, 'dsa': 8, 'java': 7},\n",
       " 'number': [2, 4, 5, 8, 9]}"
      ]
     },
     "execution_count": 91,
     "metadata": {},
     "output_type": "execute_result"
    }
   ],
   "source": [
    "d4"
   ]
  },
  {
   "cell_type": "code",
   "execution_count": 92,
   "id": "93d35fcb-da79-448a-bc89-2d706cad9390",
   "metadata": {},
   "outputs": [],
   "source": [
    "a=list(d4.values())"
   ]
  },
  {
   "cell_type": "code",
   "execution_count": 93,
   "id": "2469d27d-e0f2-455d-a96c-d36e887a1284",
   "metadata": {},
   "outputs": [
    {
     "data": {
      "text/plain": [
       "[(1, 2, 8, 7),\n",
       " {12, 15, 18},\n",
       " {'web dev': 8, 'dsa': 8, 'java': 7},\n",
       " [2, 4, 5, 8, 9]]"
      ]
     },
     "execution_count": 93,
     "metadata": {},
     "output_type": "execute_result"
    }
   ],
   "source": [
    "a"
   ]
  },
  {
   "cell_type": "code",
   "execution_count": 94,
   "id": "228dd9ef-7e58-4b97-aa81-c98f63b2b4f6",
   "metadata": {},
   "outputs": [
    {
     "data": {
      "text/plain": [
       "dict_items([('assignments', (1, 2, 8, 7)), ('launch_date', {18, 12, 15}), ('class_time', {'web dev': 8, 'dsa': 8, 'java': 7}), ('number', [2, 4, 5, 8, 9])])"
      ]
     },
     "execution_count": 94,
     "metadata": {},
     "output_type": "execute_result"
    }
   ],
   "source": [
    "d4.items()"
   ]
  },
  {
   "cell_type": "code",
   "execution_count": 95,
   "id": "2f4094c3-f572-4736-b878-aae44e4c338c",
   "metadata": {},
   "outputs": [],
   "source": [
    "d4.update ({\"assignments\":[78,58,54]})"
   ]
  },
  {
   "cell_type": "code",
   "execution_count": 96,
   "id": "bbb43495-08d3-4276-926f-41b935d0a2d0",
   "metadata": {},
   "outputs": [
    {
     "data": {
      "text/plain": [
       "{'assignments': [78, 58, 54],\n",
       " 'launch_date': {12, 15, 18},\n",
       " 'class_time': {'web dev': 8, 'dsa': 8, 'java': 7},\n",
       " 'number': [2, 4, 5, 8, 9]}"
      ]
     },
     "execution_count": 96,
     "metadata": {},
     "output_type": "execute_result"
    }
   ],
   "source": [
    "d4"
   ]
  },
  {
   "cell_type": "code",
   "execution_count": null,
   "id": "4d400578-0a63-4ce6-976b-77502975879e",
   "metadata": {},
   "outputs": [],
   "source": []
  },
  {
   "cell_type": "code",
   "execution_count": null,
   "id": "b001c1b6-5409-4825-a006-708e01390f91",
   "metadata": {},
   "outputs": [],
   "source": []
  },
  {
   "cell_type": "code",
   "execution_count": null,
   "id": "e9e05566-e59a-4053-b390-a3c32d2f893c",
   "metadata": {},
   "outputs": [],
   "source": []
  },
  {
   "cell_type": "code",
   "execution_count": null,
   "id": "56b12674-418b-4472-b937-6d3c99c5c03a",
   "metadata": {},
   "outputs": [],
   "source": []
  },
  {
   "cell_type": "code",
   "execution_count": null,
   "id": "dcb7f7ae-e2aa-4b74-b96e-39905325f3b3",
   "metadata": {},
   "outputs": [],
   "source": []
  },
  {
   "cell_type": "code",
   "execution_count": null,
   "id": "6cad7e25-ce9c-4848-8923-84150bf7e753",
   "metadata": {},
   "outputs": [],
   "source": []
  },
  {
   "cell_type": "code",
   "execution_count": null,
   "id": "2150b193-0b4c-4215-80d6-08f85f22463f",
   "metadata": {},
   "outputs": [],
   "source": []
  },
  {
   "cell_type": "code",
   "execution_count": null,
   "id": "454a122e-35e6-4619-9f01-849d11a6b4ce",
   "metadata": {},
   "outputs": [],
   "source": []
  },
  {
   "cell_type": "code",
   "execution_count": null,
   "id": "901b5598-2494-4e23-8aa4-e705b533a9ca",
   "metadata": {},
   "outputs": [],
   "source": []
  },
  {
   "cell_type": "code",
   "execution_count": null,
   "id": "5f3221f5-eda7-4d32-8be0-bab027f6d357",
   "metadata": {},
   "outputs": [],
   "source": []
  },
  {
   "cell_type": "code",
   "execution_count": null,
   "id": "4321b86c-9028-452e-8288-605d57bdc321",
   "metadata": {},
   "outputs": [],
   "source": []
  },
  {
   "cell_type": "code",
   "execution_count": null,
   "id": "b334380f-c392-4a34-977d-2404acef7fd0",
   "metadata": {},
   "outputs": [],
   "source": []
  },
  {
   "cell_type": "code",
   "execution_count": null,
   "id": "0960cae4-55ce-4029-916c-cc511dadaebe",
   "metadata": {},
   "outputs": [],
   "source": []
  }
 ],
 "metadata": {
  "kernelspec": {
   "display_name": "Python 3 (ipykernel)",
   "language": "python",
   "name": "python3"
  },
  "language_info": {
   "codemirror_mode": {
    "name": "ipython",
    "version": 3
   },
   "file_extension": ".py",
   "mimetype": "text/x-python",
   "name": "python",
   "nbconvert_exporter": "python",
   "pygments_lexer": "ipython3",
   "version": "3.11.4"
  }
 },
 "nbformat": 4,
 "nbformat_minor": 5
}
